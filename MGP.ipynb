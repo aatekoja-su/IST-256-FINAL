{
 "cells": [
  {
   "cell_type": "code",
   "execution_count": 5,
   "metadata": {
    "collapsed": false,
    "scrolled": true
   },
   "outputs": [
    {
     "name": "stdout",
     "output_type": "stream",
     "text": [
      "Welcome to our Music Genres Program(MGP)!\n",
      "We have a variety of music genres that you can choose from. \n",
      "For each genre our MGP provides web links to playlists, artists, songs, albums, and much more!\n"
     ]
    }
   ],
   "source": [
    "print(\"Welcome to our Music Genres Program(MGP)!\\nWe have a variety of music genres that you can choose from. \\nFor each genre our MGP provides web links to playlists, artists, songs, albums, and much more!\")"
   ]
  },
  {
   "cell_type": "code",
   "execution_count": 2,
   "metadata": {
    "collapsed": false
   },
   "outputs": [
    {
     "name": "stdout",
     "output_type": "stream",
     "text": [
      "Here are the genres we have: \n",
      "Rock(R)\n",
      "Jazz(J)\n",
      "Hip-Hop/Rap(HHR)\n",
      "R&B(RB)\n",
      "Pop(P)\n",
      "Folk(F)\n",
      "Electronic(E)\n",
      "Country(C)\n",
      "Latin(L)\n",
      "Metal(M)\n",
      "Reggae(RG)\n",
      "Dubstep(D)\n",
      "Gospel(G)\n",
      "Soul(S)\n",
      "International(I)\n",
      "Classical(CC)\n"
     ]
    }
   ],
   "source": [
    "print(\"Here are the genres we have: \\nRock(R)\\nJazz(J)\\nHip-Hop/Rap(HHR)\\nR&B(RB)\\nPop(P)\\nFolk(F)\\nElectronic(E)\\nCountry(C)\\nLatin(L)\\nMetal(M)\\nReggae(RG)\\nDubstep(D)\\nGospel(G)\\nSoul(S)\\nInternational(I)\\nClassical(CC)\")"
   ]
  },
  {
   "cell_type": "code",
   "execution_count": 2,
   "metadata": {
    "collapsed": false
   },
   "outputs": [
    {
     "name": "stdout",
     "output_type": "stream",
     "text": [
      "Please enter the abbreviation for the corresponding genre you would like to explore or type 'quit': R\n",
      "Below is the information about (R) that you requested: \n",
      "Rock Top Songs of 2016 according to LoudWire: http://loudwire.com/20-best-rock-songs-2016/\n",
      "\n",
      "Rock Youtube Playlist: https://youtu.be/ktvTqknDobU?list=PLkgWEYvTsgqHO6vTqQEqWxBlW_6ykRmYz\n",
      "\n",
      "Rock Greatest Artists of All Time:  http://rateyourmusic.com/list/EVH1622/100_greatest_rock_artists_of_all_time/\n",
      "\n",
      "Rock Music Wikipedia Page: https://en.wikipedia.org/wiki/Rock_and_roll\n",
      "\n",
      "Rock Top Albums of All Time: http://www.shortlist.com/entertainment/music/the-50-greatest-rock-albums-ever\n",
      "\n",
      "Please enter the abbreviation for the corresponding genre you would like to explore or type 'quit': 939398384765\n",
      "Sorry, either we don't have information about that genre or you've entered bad input!\n"
     ]
    }
   ],
   "source": [
    "filename = 'Music_Genres.txt'\n",
    "while True:\n",
    "    Genre = input(\"Please enter the abbreviation for the corresponding genre you would like to explore or type 'quit': \")\n",
    "    if Genre == 'R':\n",
    "        print (\"Below is the information about (%s) that you requested: \" % Genre)\n",
    "        with open (filename, 'r') as f:\n",
    "            for line in f.readlines():\n",
    "                if line.startswith ('Rock'):\n",
    "                    print(line)\n",
    "    elif Genre == 'J':\n",
    "        print (\"Below is the information about (%s) that you requested: \" % Genre)\n",
    "        with open (filename, 'r') as f:\n",
    "            for line in f.readlines():\n",
    "                if line.startswith ('Jazz'):\n",
    "                    print(line)\n",
    "    elif Genre == 'HHR':\n",
    "        print (\"Below is the information about (%s) that you requested: \" % Genre)\n",
    "        with open (filename, 'r') as f:\n",
    "            for line in f.readlines():\n",
    "                if line.startswith ('Hip-Hop/Rap'):\n",
    "                    print(line) \n",
    "    elif Genre == 'RB':\n",
    "        print (\"Below is the information about (%s) that you requested: \" % Genre)\n",
    "        with open (filename, 'r') as f:\n",
    "            for line in f.readlines():\n",
    "                if line.startswith ('R&B'):\n",
    "                    print(line) \n",
    "    elif Genre == 'F':\n",
    "        print (\"Below is the information about (%s) that you requested: \" % Genre)\n",
    "        with open (filename, 'r') as f:\n",
    "            for line in f.readlines():\n",
    "                if line.startswith ('Folk'):\n",
    "                    print(line)\n",
    "    elif Genre == 'P':\n",
    "        print (\"Below is the information about (%s) that you requested: \" % Genre)\n",
    "        with open (filename, 'r') as f:\n",
    "            for line in f.readlines():\n",
    "                if line.startswith ('Pop'):\n",
    "                    print(line)\n",
    "    elif Genre == 'E':\n",
    "        print (\"Below is the information about (%s) that you requested: \" % Genre)\n",
    "        with open (filename, 'r') as f:\n",
    "            for line in f.readlines():\n",
    "                if line.startswith ('Electronic'):\n",
    "                    print(line)\n",
    "    elif Genre == 'C':\n",
    "        print (\"Below is the information about (%s) that you requested: \" % Genre)\n",
    "        with open (filename, 'r') as f:\n",
    "            for line in f.readlines():\n",
    "                if line.startswith ('Country'):\n",
    "                    print(line)  \n",
    "    elif Genre == 'L':\n",
    "        print (\"Below is the information about (%s) that you requested: \" % Genre)\n",
    "        with open (filename, 'r') as f:\n",
    "            for line in f.readlines():\n",
    "                if line.startswith ('Latin'):\n",
    "                    print(line)\n",
    "    elif Genre == 'M':\n",
    "        print (\"Below is the information about (%s) that you requested: \" % Genre)\n",
    "        with open (filename, 'r') as f:\n",
    "            for line in f.readlines():\n",
    "                if line.startswith ('Metal'):\n",
    "                    print(line) \n",
    "    elif Genre == 'RG':\n",
    "        print (\"Below is the information about (%s) that you requested: \" % Genre)\n",
    "        with open (filename, 'r') as f:\n",
    "            for line in f.readlines():\n",
    "                if line.startswith ('Reggae'):\n",
    "                    print(line) \n",
    "    elif Genre == 'D':\n",
    "        print (\"Below is the information about (%s) that you requested: \" % Genre)\n",
    "        with open (filename, 'r') as f:\n",
    "            for line in f.readlines():\n",
    "                if line.startswith ('Dubstep'):\n",
    "                    print(line)\n",
    "    elif Genre == 'G':\n",
    "        print (\"Below is the information about (%s) that you requested: \" % Genre)\n",
    "        with open (filename, 'r') as f:\n",
    "            for line in f.readlines():\n",
    "                if line.startswith ('Gospel'):\n",
    "                    print(line)\n",
    "    elif Genre == 'S':\n",
    "        print (\"Below is the information about (%s) that you requested: \" % Genre)\n",
    "        with open (filename, 'r') as f:\n",
    "            for line in f.readlines():\n",
    "                if line.startswith ('Soul'):\n",
    "                    print(line)\n",
    "    elif Genre == 'I':\n",
    "        print (\"Below is the information about (%s) that you requested: \" % Genre)\n",
    "        with open (filename, 'r') as f:\n",
    "            for line in f.readlines():\n",
    "                if line.startswith ('International'):\n",
    "                    print(line)\n",
    "    elif Genre == 'CC':\n",
    "        print (\"Below is the information about (%s) that you requested: \" % Genre)\n",
    "        with open (filename, 'r') as f:\n",
    "            for line in f.readlines():\n",
    "                if line.startswith ('Classical'):\n",
    "                    print(line) \n",
    "    elif Genre == 'quit':\n",
    "        print(\"Thank you for using our MGP! We hope you've enjoyed using our program. \")\n",
    "        break\n",
    "    else:\n",
    "        print(\"Sorry, either we don't have information about that genre or you've entered bad input!\") \n",
    "        break\n",
    "        \n",
    "         "
   ]
  },
  {
   "cell_type": "code",
   "execution_count": null,
   "metadata": {
    "collapsed": true
   },
   "outputs": [],
   "source": []
  }
 ],
 "metadata": {
  "kernelspec": {
   "display_name": "Python 3",
   "language": "python",
   "name": "python3"
  },
  "language_info": {
   "codemirror_mode": {
    "name": "ipython",
    "version": 3
   },
   "file_extension": ".py",
   "mimetype": "text/x-python",
   "name": "python",
   "nbconvert_exporter": "python",
   "pygments_lexer": "ipython3",
   "version": "3.5.2"
  }
 },
 "nbformat": 4,
 "nbformat_minor": 2
}
